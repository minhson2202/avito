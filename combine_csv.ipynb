{
 "cells": [
  {
   "cell_type": "code",
   "execution_count": 3,
   "id": "6f70f7e1-7ea6-4a4e-85e4-1bc7b0ee3bb6",
   "metadata": {
    "editable": true,
    "slideshow": {
     "slide_type": ""
    },
    "tags": []
   },
   "outputs": [
    {
     "name": "stdout",
     "output_type": "stream",
     "text": [
      "Total unique values: 466809\n",
      "Combined CSV saved to output_130225.csv\n"
     ]
    }
   ],
   "source": [
    "import pandas as pd\n",
    "import os\n",
    "\n",
    "def combine_csv_files_count_unique(file_paths, output_file):\n",
    "\n",
    "    combined_df = pd.DataFrame()\n",
    "\n",
    "    for file in file_paths:\n",
    "        if os.path.exists(file):\n",
    "            df = pd.read_csv(file)\n",
    "            combined_df = pd.concat([combined_df, df], ignore_index=True)\n",
    "        else:\n",
    "            print(f\"File not found: {file}\")\n",
    "\n",
    "    combined_df = combined_df.drop_duplicates()\n",
    "\n",
    "    unique_count = combined_df.shape[0]\n",
    "    print(f\"Total unique values: {unique_count}\")\n",
    "\n",
    "    combined_df.to_csv(output_file, index=False)\n",
    "    print(f\"Combined CSV saved to {output_file}\")\n",
    "\n",
    "\n",
    "if __name__ == \"__main__\":\n",
    "    csv_files = [\"vacancies_chunk_9.csv\", \"vacancies_chunk_10.csv\", \"vacancies_chunk_8.csv\", \"vacancies_chunk_7.csv\", \"vacancies_chunk_6.csv\", \"vacancies_chunk_5.csv\", \"vacancies_chunk_4.csv\", \"vacancies_chunk_3.csv\", \"vacancies_chunk_2.csv\", \n",
    "                 \"vacancies_chunk_1.csv\",\"vacancies_chunk_11.csv\",\"vacancies_chunk_12.csv\",\"vacancies_chunk_13.csv\",\"vacancies_chunk_14.csv\",\"vacancies_chunk_15.csv\",\"vacancies_chunk_16.csv\",\"vacancies_chunk_17.csv\",\"vacancies_chunk_18.csv\", \"vacancies_chunk_19.csv\", \"vacancies_chunk_20.csv\"]\n",
    "\n",
    "    output_csv = \"output_130225.csv\"\n",
    "\n",
    "    combine_csv_files_count_unique(csv_files, output_csv)\n"
   ]
  },
  {
   "cell_type": "code",
   "execution_count": null,
   "id": "d9047ed9-fad7-4679-8a16-77358958c16e",
   "metadata": {},
   "outputs": [],
   "source": []
  }
 ],
 "metadata": {
  "kernelspec": {
   "display_name": "Python 3 (ipykernel)",
   "language": "python",
   "name": "python3"
  },
  "language_info": {
   "codemirror_mode": {
    "name": "ipython",
    "version": 3
   },
   "file_extension": ".py",
   "mimetype": "text/x-python",
   "name": "python",
   "nbconvert_exporter": "python",
   "pygments_lexer": "ipython3",
   "version": "3.10.10"
  }
 },
 "nbformat": 4,
 "nbformat_minor": 5
}
